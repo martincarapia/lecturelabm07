{
 "cells": [
  {
   "cell_type": "markdown",
   "id": "297f0149",
   "metadata": {},
   "source": [
    "# Pandas Lecture Lab Activity"
   ]
  },
  {
   "cell_type": "markdown",
   "id": "f2ef48d7",
   "metadata": {},
   "source": [
    "What is CRUD?"
   ]
  },
  {
   "cell_type": "code",
   "execution_count": 1,
   "id": "2dc89578",
   "metadata": {},
   "outputs": [
    {
     "data": {
      "text/plain": [
       "'Crud stands for Create, Read, Update, Delete'"
      ]
     },
     "execution_count": 1,
     "metadata": {},
     "output_type": "execute_result"
    }
   ],
   "source": [
    "'Crud stands for Create, Read, Update, Delete'"
   ]
  },
  {
   "cell_type": "markdown",
   "id": "598c7df6",
   "metadata": {},
   "source": [
    "Using pandas import the Module 7 Lecture Lab Activity.csv"
   ]
  },
  {
   "cell_type": "code",
   "execution_count": 2,
   "id": "c1851cf7",
   "metadata": {},
   "outputs": [],
   "source": [
    "import pandas as pd"
   ]
  },
  {
   "cell_type": "code",
   "execution_count": 3,
   "id": "4802f7af",
   "metadata": {},
   "outputs": [],
   "source": [
    "df = pd.read_csv('data.csv', encoding='ISO-8859-1')"
   ]
  },
  {
   "cell_type": "markdown",
   "id": "acf422c7",
   "metadata": {},
   "source": [
    "Show the header for the CSV."
   ]
  },
  {
   "cell_type": "code",
   "execution_count": 4,
   "id": "e6f931a8",
   "metadata": {},
   "outputs": [
    {
     "data": {
      "text/html": [
       "<div>\n",
       "<style scoped>\n",
       "    .dataframe tbody tr th:only-of-type {\n",
       "        vertical-align: middle;\n",
       "    }\n",
       "\n",
       "    .dataframe tbody tr th {\n",
       "        vertical-align: top;\n",
       "    }\n",
       "\n",
       "    .dataframe thead th {\n",
       "        text-align: right;\n",
       "    }\n",
       "</style>\n",
       "<table border=\"1\" class=\"dataframe\">\n",
       "  <thead>\n",
       "    <tr style=\"text-align: right;\">\n",
       "      <th></th>\n",
       "      <th>Names</th>\n",
       "      <th>Type of Candy</th>\n",
       "      <th>Cost</th>\n",
       "    </tr>\n",
       "  </thead>\n",
       "  <tbody>\n",
       "    <tr>\n",
       "      <th>0</th>\n",
       "      <td>Damien</td>\n",
       "      <td>Almond Joy</td>\n",
       "      <td>1.96</td>\n",
       "    </tr>\n",
       "    <tr>\n",
       "      <th>1</th>\n",
       "      <td>adalynn gilman</td>\n",
       "      <td>Reeses</td>\n",
       "      <td>1.48</td>\n",
       "    </tr>\n",
       "    <tr>\n",
       "      <th>2</th>\n",
       "      <td>Noah Papenbrock</td>\n",
       "      <td>Hershey's Special Dark Zero Sugar Chocolate Bar</td>\n",
       "      <td>2.48</td>\n",
       "    </tr>\n",
       "    <tr>\n",
       "      <th>3</th>\n",
       "      <td>Mrwan</td>\n",
       "      <td>Snickers</td>\n",
       "      <td>1.00</td>\n",
       "    </tr>\n",
       "    <tr>\n",
       "      <th>4</th>\n",
       "      <td>Trenton Ly</td>\n",
       "      <td>Reese's</td>\n",
       "      <td>23.87</td>\n",
       "    </tr>\n",
       "  </tbody>\n",
       "</table>\n",
       "</div>"
      ],
      "text/plain": [
       "             Names                                    Type of Candy   Cost\n",
       "0           Damien                                       Almond Joy   1.96\n",
       "1   adalynn gilman                                           Reeses   1.48\n",
       "2  Noah Papenbrock  Hershey's Special Dark Zero Sugar Chocolate Bar   2.48\n",
       "3            Mrwan                                         Snickers   1.00\n",
       "4       Trenton Ly                                          Reese's  23.87"
      ]
     },
     "execution_count": 4,
     "metadata": {},
     "output_type": "execute_result"
    }
   ],
   "source": [
    "df.head()"
   ]
  },
  {
   "cell_type": "markdown",
   "id": "465c6e3a",
   "metadata": {},
   "source": [
    "Show the first 15 rows of the CSV."
   ]
  },
  {
   "cell_type": "code",
   "execution_count": 5,
   "id": "1abb73a9",
   "metadata": {},
   "outputs": [
    {
     "data": {
      "text/html": [
       "<div>\n",
       "<style scoped>\n",
       "    .dataframe tbody tr th:only-of-type {\n",
       "        vertical-align: middle;\n",
       "    }\n",
       "\n",
       "    .dataframe tbody tr th {\n",
       "        vertical-align: top;\n",
       "    }\n",
       "\n",
       "    .dataframe thead th {\n",
       "        text-align: right;\n",
       "    }\n",
       "</style>\n",
       "<table border=\"1\" class=\"dataframe\">\n",
       "  <thead>\n",
       "    <tr style=\"text-align: right;\">\n",
       "      <th></th>\n",
       "      <th>Names</th>\n",
       "      <th>Type of Candy</th>\n",
       "      <th>Cost</th>\n",
       "    </tr>\n",
       "  </thead>\n",
       "  <tbody>\n",
       "    <tr>\n",
       "      <th>0</th>\n",
       "      <td>Damien</td>\n",
       "      <td>Almond Joy</td>\n",
       "      <td>1.96</td>\n",
       "    </tr>\n",
       "    <tr>\n",
       "      <th>1</th>\n",
       "      <td>adalynn gilman</td>\n",
       "      <td>Reeses</td>\n",
       "      <td>1.48</td>\n",
       "    </tr>\n",
       "    <tr>\n",
       "      <th>2</th>\n",
       "      <td>Noah Papenbrock</td>\n",
       "      <td>Hershey's Special Dark Zero Sugar Chocolate Bar</td>\n",
       "      <td>2.48</td>\n",
       "    </tr>\n",
       "    <tr>\n",
       "      <th>3</th>\n",
       "      <td>Mrwan</td>\n",
       "      <td>Snickers</td>\n",
       "      <td>1.00</td>\n",
       "    </tr>\n",
       "    <tr>\n",
       "      <th>4</th>\n",
       "      <td>Trenton Ly</td>\n",
       "      <td>Reese's</td>\n",
       "      <td>23.87</td>\n",
       "    </tr>\n",
       "    <tr>\n",
       "      <th>5</th>\n",
       "      <td>alexander kauffman</td>\n",
       "      <td>Almond Joy</td>\n",
       "      <td>1.48</td>\n",
       "    </tr>\n",
       "    <tr>\n",
       "      <th>6</th>\n",
       "      <td>William Espich</td>\n",
       "      <td>Skittles</td>\n",
       "      <td>3.28</td>\n",
       "    </tr>\n",
       "    <tr>\n",
       "      <th>7</th>\n",
       "      <td>Andres H</td>\n",
       "      <td>reeces</td>\n",
       "      <td>1.20</td>\n",
       "    </tr>\n",
       "    <tr>\n",
       "      <th>8</th>\n",
       "      <td>Blake Tippmann</td>\n",
       "      <td>3 musketeers</td>\n",
       "      <td>1.48</td>\n",
       "    </tr>\n",
       "    <tr>\n",
       "      <th>9</th>\n",
       "      <td>Elijah Kite</td>\n",
       "      <td>Jolly Ranchers</td>\n",
       "      <td>18.69</td>\n",
       "    </tr>\n",
       "    <tr>\n",
       "      <th>10</th>\n",
       "      <td>Nick Schuhmacher</td>\n",
       "      <td>mints</td>\n",
       "      <td>1.50</td>\n",
       "    </tr>\n",
       "    <tr>\n",
       "      <th>11</th>\n",
       "      <td>Kevin Nguyen</td>\n",
       "      <td>Snickers</td>\n",
       "      <td>0.98</td>\n",
       "    </tr>\n",
       "    <tr>\n",
       "      <th>12</th>\n",
       "      <td>Chase McCarel</td>\n",
       "      <td>Milky Way</td>\n",
       "      <td>0.74</td>\n",
       "    </tr>\n",
       "    <tr>\n",
       "      <th>13</th>\n",
       "      <td>Eja</td>\n",
       "      <td>Skittles (50 oz bag)</td>\n",
       "      <td>9.98</td>\n",
       "    </tr>\n",
       "    <tr>\n",
       "      <th>14</th>\n",
       "      <td>Sarah Martinez</td>\n",
       "      <td>Twix</td>\n",
       "      <td>0.88</td>\n",
       "    </tr>\n",
       "  </tbody>\n",
       "</table>\n",
       "</div>"
      ],
      "text/plain": [
       "                 Names                                    Type of Candy   Cost\n",
       "0               Damien                                       Almond Joy   1.96\n",
       "1       adalynn gilman                                           Reeses   1.48\n",
       "2      Noah Papenbrock  Hershey's Special Dark Zero Sugar Chocolate Bar   2.48\n",
       "3                Mrwan                                         Snickers   1.00\n",
       "4           Trenton Ly                                          Reese's  23.87\n",
       "5   alexander kauffman                                       Almond Joy   1.48\n",
       "6       William Espich                                         Skittles   3.28\n",
       "7             Andres H                                           reeces   1.20\n",
       "8       Blake Tippmann                                     3 musketeers   1.48\n",
       "9          Elijah Kite                                   Jolly Ranchers  18.69\n",
       "10    Nick Schuhmacher                                            mints   1.50\n",
       "11        Kevin Nguyen                                         Snickers   0.98\n",
       "12       Chase McCarel                                        Milky Way   0.74\n",
       "13                 Eja                             Skittles (50 oz bag)   9.98\n",
       "14      Sarah Martinez                                             Twix   0.88"
      ]
     },
     "execution_count": 5,
     "metadata": {},
     "output_type": "execute_result"
    }
   ],
   "source": [
    "df.head(15)"
   ]
  },
  {
   "cell_type": "markdown",
   "id": "984746cf",
   "metadata": {},
   "source": [
    "Show the last 7 rows of the CSV."
   ]
  },
  {
   "cell_type": "code",
   "execution_count": 6,
   "id": "3a9db751",
   "metadata": {},
   "outputs": [
    {
     "data": {
      "text/html": [
       "<div>\n",
       "<style scoped>\n",
       "    .dataframe tbody tr th:only-of-type {\n",
       "        vertical-align: middle;\n",
       "    }\n",
       "\n",
       "    .dataframe tbody tr th {\n",
       "        vertical-align: top;\n",
       "    }\n",
       "\n",
       "    .dataframe thead th {\n",
       "        text-align: right;\n",
       "    }\n",
       "</style>\n",
       "<table border=\"1\" class=\"dataframe\">\n",
       "  <thead>\n",
       "    <tr style=\"text-align: right;\">\n",
       "      <th></th>\n",
       "      <th>Names</th>\n",
       "      <th>Type of Candy</th>\n",
       "      <th>Cost</th>\n",
       "    </tr>\n",
       "  </thead>\n",
       "  <tbody>\n",
       "    <tr>\n",
       "      <th>106</th>\n",
       "      <td>Jaxon Worrell</td>\n",
       "      <td>Jolly Ranchers</td>\n",
       "      <td>0.99</td>\n",
       "    </tr>\n",
       "    <tr>\n",
       "      <th>107</th>\n",
       "      <td>Emmett</td>\n",
       "      <td>take 5</td>\n",
       "      <td>0.99</td>\n",
       "    </tr>\n",
       "    <tr>\n",
       "      <th>108</th>\n",
       "      <td>Michael Drane</td>\n",
       "      <td>Trolli sour gummy worms</td>\n",
       "      <td>0.99</td>\n",
       "    </tr>\n",
       "    <tr>\n",
       "      <th>109</th>\n",
       "      <td>Sean Wilson</td>\n",
       "      <td>Mike N Ikes or Skittles</td>\n",
       "      <td>1.99</td>\n",
       "    </tr>\n",
       "    <tr>\n",
       "      <th>110</th>\n",
       "      <td>izzy</td>\n",
       "      <td>gummy bears</td>\n",
       "      <td>1.99</td>\n",
       "    </tr>\n",
       "    <tr>\n",
       "      <th>111</th>\n",
       "      <td>brina</td>\n",
       "      <td>reeses</td>\n",
       "      <td>1.99</td>\n",
       "    </tr>\n",
       "    <tr>\n",
       "      <th>112</th>\n",
       "      <td>kennedy ledbbeter</td>\n",
       "      <td>almond heresy</td>\n",
       "      <td>1.99</td>\n",
       "    </tr>\n",
       "  </tbody>\n",
       "</table>\n",
       "</div>"
      ],
      "text/plain": [
       "                 Names            Type of Candy  Cost\n",
       "106      Jaxon Worrell           Jolly Ranchers  0.99\n",
       "107             Emmett                   take 5  0.99\n",
       "108      Michael Drane  Trolli sour gummy worms  0.99\n",
       "109        Sean Wilson  Mike N Ikes or Skittles  1.99\n",
       "110               izzy              gummy bears  1.99\n",
       "111              brina                   reeses  1.99\n",
       "112  kennedy ledbbeter            almond heresy  1.99"
      ]
     },
     "execution_count": 6,
     "metadata": {},
     "output_type": "execute_result"
    }
   ],
   "source": [
    "df.tail(7)"
   ]
  },
  {
   "cell_type": "markdown",
   "id": "b623110f",
   "metadata": {},
   "source": [
    "Show all the Columns of the CSV."
   ]
  },
  {
   "cell_type": "code",
   "execution_count": 7,
   "id": "51237cf3",
   "metadata": {},
   "outputs": [
    {
     "data": {
      "text/plain": [
       "Index(['Names', 'Type of Candy', 'Cost'], dtype='object')"
      ]
     },
     "execution_count": 7,
     "metadata": {},
     "output_type": "execute_result"
    }
   ],
   "source": [
    "df.columns"
   ]
  },
  {
   "cell_type": "markdown",
   "id": "f11a662f",
   "metadata": {},
   "source": [
    "Show the specific data types of the CSV."
   ]
  },
  {
   "cell_type": "code",
   "execution_count": 8,
   "id": "c02a1bec",
   "metadata": {},
   "outputs": [
    {
     "data": {
      "text/plain": [
       "Names             object\n",
       "Type of Candy     object\n",
       "Cost             float64\n",
       "dtype: object"
      ]
     },
     "execution_count": 8,
     "metadata": {},
     "output_type": "execute_result"
    }
   ],
   "source": [
    "df.dtypes"
   ]
  },
  {
   "cell_type": "markdown",
   "id": "9c20225a",
   "metadata": {},
   "source": [
    "Show a statistical summary of the CSV."
   ]
  },
  {
   "cell_type": "code",
   "execution_count": 9,
   "id": "49eacfd6",
   "metadata": {},
   "outputs": [
    {
     "data": {
      "text/html": [
       "<div>\n",
       "<style scoped>\n",
       "    .dataframe tbody tr th:only-of-type {\n",
       "        vertical-align: middle;\n",
       "    }\n",
       "\n",
       "    .dataframe tbody tr th {\n",
       "        vertical-align: top;\n",
       "    }\n",
       "\n",
       "    .dataframe thead th {\n",
       "        text-align: right;\n",
       "    }\n",
       "</style>\n",
       "<table border=\"1\" class=\"dataframe\">\n",
       "  <thead>\n",
       "    <tr style=\"text-align: right;\">\n",
       "      <th></th>\n",
       "      <th>Cost</th>\n",
       "    </tr>\n",
       "  </thead>\n",
       "  <tbody>\n",
       "    <tr>\n",
       "      <th>count</th>\n",
       "      <td>113.000000</td>\n",
       "    </tr>\n",
       "    <tr>\n",
       "      <th>mean</th>\n",
       "      <td>2.391416</td>\n",
       "    </tr>\n",
       "    <tr>\n",
       "      <th>std</th>\n",
       "      <td>3.623166</td>\n",
       "    </tr>\n",
       "    <tr>\n",
       "      <th>min</th>\n",
       "      <td>0.740000</td>\n",
       "    </tr>\n",
       "    <tr>\n",
       "      <th>25%</th>\n",
       "      <td>0.990000</td>\n",
       "    </tr>\n",
       "    <tr>\n",
       "      <th>50%</th>\n",
       "      <td>1.160000</td>\n",
       "    </tr>\n",
       "    <tr>\n",
       "      <th>75%</th>\n",
       "      <td>1.990000</td>\n",
       "    </tr>\n",
       "    <tr>\n",
       "      <th>max</th>\n",
       "      <td>23.870000</td>\n",
       "    </tr>\n",
       "  </tbody>\n",
       "</table>\n",
       "</div>"
      ],
      "text/plain": [
       "             Cost\n",
       "count  113.000000\n",
       "mean     2.391416\n",
       "std      3.623166\n",
       "min      0.740000\n",
       "25%      0.990000\n",
       "50%      1.160000\n",
       "75%      1.990000\n",
       "max     23.870000"
      ]
     },
     "execution_count": 9,
     "metadata": {},
     "output_type": "execute_result"
    }
   ],
   "source": [
    "df.describe()"
   ]
  },
  {
   "cell_type": "markdown",
   "id": "cef7d9b6",
   "metadata": {},
   "source": [
    "What objects are not included in the statistical summary?\n",
    "How can I get the objects that are not included?"
   ]
  },
  {
   "cell_type": "code",
   "execution_count": 10,
   "id": "e6d922ad",
   "metadata": {},
   "outputs": [
    {
     "data": {
      "text/plain": [
       "\"Only integers are included in statistical summary's\""
      ]
     },
     "execution_count": 10,
     "metadata": {},
     "output_type": "execute_result"
    }
   ],
   "source": [
    "\"Only integers are included in statistical summary's\""
   ]
  },
  {
   "cell_type": "code",
   "execution_count": 11,
   "id": "a4800aae",
   "metadata": {},
   "outputs": [
    {
     "data": {
      "text/html": [
       "<div>\n",
       "<style scoped>\n",
       "    .dataframe tbody tr th:only-of-type {\n",
       "        vertical-align: middle;\n",
       "    }\n",
       "\n",
       "    .dataframe tbody tr th {\n",
       "        vertical-align: top;\n",
       "    }\n",
       "\n",
       "    .dataframe thead th {\n",
       "        text-align: right;\n",
       "    }\n",
       "</style>\n",
       "<table border=\"1\" class=\"dataframe\">\n",
       "  <thead>\n",
       "    <tr style=\"text-align: right;\">\n",
       "      <th></th>\n",
       "      <th>Names</th>\n",
       "      <th>Type of Candy</th>\n",
       "    </tr>\n",
       "  </thead>\n",
       "  <tbody>\n",
       "    <tr>\n",
       "      <th>count</th>\n",
       "      <td>113</td>\n",
       "      <td>113</td>\n",
       "    </tr>\n",
       "    <tr>\n",
       "      <th>unique</th>\n",
       "      <td>53</td>\n",
       "      <td>75</td>\n",
       "    </tr>\n",
       "    <tr>\n",
       "      <th>top</th>\n",
       "      <td>Damien</td>\n",
       "      <td>Snickers</td>\n",
       "    </tr>\n",
       "    <tr>\n",
       "      <th>freq</th>\n",
       "      <td>3</td>\n",
       "      <td>6</td>\n",
       "    </tr>\n",
       "  </tbody>\n",
       "</table>\n",
       "</div>"
      ],
      "text/plain": [
       "         Names Type of Candy\n",
       "count      113           113\n",
       "unique      53            75\n",
       "top     Damien      Snickers\n",
       "freq         3             6"
      ]
     },
     "execution_count": 11,
     "metadata": {},
     "output_type": "execute_result"
    }
   ],
   "source": [
    "# write the code to show me how to get the objects that are not included\n",
    "df.describe(include=[object])"
   ]
  },
  {
   "cell_type": "markdown",
   "id": "99d9800b",
   "metadata": {},
   "source": [
    "Show how to filter the names from the rest of the table?"
   ]
  },
  {
   "cell_type": "code",
   "execution_count": 12,
   "id": "3d5beb44",
   "metadata": {},
   "outputs": [
    {
     "data": {
      "text/plain": [
       "0                 Damien\n",
       "1         adalynn gilman\n",
       "2        Noah Papenbrock\n",
       "3                  Mrwan\n",
       "4             Trenton Ly\n",
       "             ...        \n",
       "108        Michael Drane\n",
       "109          Sean Wilson\n",
       "110                 izzy\n",
       "111                brina\n",
       "112    kennedy ledbbeter\n",
       "Name: Names, Length: 113, dtype: object"
      ]
     },
     "execution_count": 12,
     "metadata": {},
     "output_type": "execute_result"
    }
   ],
   "source": [
    "df['Names']"
   ]
  },
  {
   "cell_type": "markdown",
   "id": "1f33826d",
   "metadata": {},
   "source": [
    "Show me the unique names."
   ]
  },
  {
   "cell_type": "code",
   "execution_count": 13,
   "id": "83411794",
   "metadata": {},
   "outputs": [
    {
     "data": {
      "text/plain": [
       "array(['Damien', 'adalynn gilman', 'Noah Papenbrock', 'Mrwan',\n",
       "       'Trenton Ly', 'alexander kauffman', 'William Espich', 'Andres H',\n",
       "       'Blake Tippmann', 'Elijah Kite', 'Nick Schuhmacher',\n",
       "       'Kevin Nguyen', 'Chase McCarel', 'Eja', 'Sarah Martinez',\n",
       "       'Gabriel Moore', 'brianna', 'Cathy Wise', 'alexis', 'Audrey marks',\n",
       "       'Xayne Blair', 'Corban Saylor', 'Langston', 'Allan', 'Kim',\n",
       "       'Bryce Bland', 'Troy', 'shaheim', 'jasiah waxton', 'edaevion',\n",
       "       'Hong Rot', 'Ethan Morse', 'Ibrahim Nokour', 'Kevin Carter',\n",
       "       'braniah', 'Tate Rex', 'faith', 'Juan Ruiz', 'Chris McCalla',\n",
       "       'Riley Wilds', 'Christian Rogers', 'Leo',\n",
       "       'Nor Aisa Binti Abdul Molna', 'Sa Hay', 'Grant Simpson', 'maya',\n",
       "       'Jaxon Worrell', 'Emmett', 'Michael Drane', 'Sean Wilson', 'izzy',\n",
       "       'brina', 'kennedy ledbbeter'], dtype=object)"
      ]
     },
     "execution_count": 13,
     "metadata": {},
     "output_type": "execute_result"
    }
   ],
   "source": [
    "df['Names'].unique()"
   ]
  },
  {
   "cell_type": "markdown",
   "id": "425f1898",
   "metadata": {},
   "source": [
    "Show me only the rows that are under $1.00"
   ]
  },
  {
   "cell_type": "code",
   "execution_count": 14,
   "id": "e6f7febf",
   "metadata": {},
   "outputs": [
    {
     "data": {
      "text/html": [
       "<div>\n",
       "<style scoped>\n",
       "    .dataframe tbody tr th:only-of-type {\n",
       "        vertical-align: middle;\n",
       "    }\n",
       "\n",
       "    .dataframe tbody tr th {\n",
       "        vertical-align: top;\n",
       "    }\n",
       "\n",
       "    .dataframe thead th {\n",
       "        text-align: right;\n",
       "    }\n",
       "</style>\n",
       "<table border=\"1\" class=\"dataframe\">\n",
       "  <thead>\n",
       "    <tr style=\"text-align: right;\">\n",
       "      <th></th>\n",
       "      <th>Names</th>\n",
       "      <th>Type of Candy</th>\n",
       "      <th>Cost</th>\n",
       "    </tr>\n",
       "  </thead>\n",
       "  <tbody>\n",
       "    <tr>\n",
       "      <th>11</th>\n",
       "      <td>Kevin Nguyen</td>\n",
       "      <td>Snickers</td>\n",
       "      <td>0.98</td>\n",
       "    </tr>\n",
       "    <tr>\n",
       "      <th>12</th>\n",
       "      <td>Chase McCarel</td>\n",
       "      <td>Milky Way</td>\n",
       "      <td>0.74</td>\n",
       "    </tr>\n",
       "    <tr>\n",
       "      <th>14</th>\n",
       "      <td>Sarah Martinez</td>\n",
       "      <td>Twix</td>\n",
       "      <td>0.88</td>\n",
       "    </tr>\n",
       "    <tr>\n",
       "      <th>16</th>\n",
       "      <td>brianna</td>\n",
       "      <td>Snickers</td>\n",
       "      <td>0.98</td>\n",
       "    </tr>\n",
       "    <tr>\n",
       "      <th>23</th>\n",
       "      <td>Allan</td>\n",
       "      <td>Hershey Bar</td>\n",
       "      <td>0.88</td>\n",
       "    </tr>\n",
       "    <tr>\n",
       "      <th>25</th>\n",
       "      <td>Bryce Bland</td>\n",
       "      <td>Hersheys Candy Bar</td>\n",
       "      <td>0.88</td>\n",
       "    </tr>\n",
       "    <tr>\n",
       "      <th>32</th>\n",
       "      <td>Noah Papenbrock</td>\n",
       "      <td>Great Value Peach Rings</td>\n",
       "      <td>0.98</td>\n",
       "    </tr>\n",
       "    <tr>\n",
       "      <th>38</th>\n",
       "      <td>Blake Tippmann</td>\n",
       "      <td>butter finger</td>\n",
       "      <td>0.98</td>\n",
       "    </tr>\n",
       "    <tr>\n",
       "      <th>42</th>\n",
       "      <td>Chase McCarel</td>\n",
       "      <td>Twix</td>\n",
       "      <td>0.88</td>\n",
       "    </tr>\n",
       "    <tr>\n",
       "      <th>44</th>\n",
       "      <td>Sarah Martinez</td>\n",
       "      <td>Hershey's Cookies and Cream</td>\n",
       "      <td>0.88</td>\n",
       "    </tr>\n",
       "    <tr>\n",
       "      <th>46</th>\n",
       "      <td>brianna</td>\n",
       "      <td>Almond Joy</td>\n",
       "      <td>0.88</td>\n",
       "    </tr>\n",
       "    <tr>\n",
       "      <th>54</th>\n",
       "      <td>Kim</td>\n",
       "      <td>Hershey's Chocolate</td>\n",
       "      <td>0.88</td>\n",
       "    </tr>\n",
       "    <tr>\n",
       "      <th>59</th>\n",
       "      <td>edaevion</td>\n",
       "      <td>KitKat</td>\n",
       "      <td>0.82</td>\n",
       "    </tr>\n",
       "    <tr>\n",
       "      <th>61</th>\n",
       "      <td>Ethan Morse</td>\n",
       "      <td>reese's take 5</td>\n",
       "      <td>0.99</td>\n",
       "    </tr>\n",
       "    <tr>\n",
       "      <th>62</th>\n",
       "      <td>Blake Tippmann</td>\n",
       "      <td>Reese's</td>\n",
       "      <td>0.99</td>\n",
       "    </tr>\n",
       "    <tr>\n",
       "      <th>69</th>\n",
       "      <td>Gabriel Moore</td>\n",
       "      <td>jelly beans</td>\n",
       "      <td>0.99</td>\n",
       "    </tr>\n",
       "    <tr>\n",
       "      <th>70</th>\n",
       "      <td>brianna</td>\n",
       "      <td>kitkats</td>\n",
       "      <td>0.99</td>\n",
       "    </tr>\n",
       "    <tr>\n",
       "      <th>73</th>\n",
       "      <td>Audrey marks</td>\n",
       "      <td>skittles</td>\n",
       "      <td>0.99</td>\n",
       "    </tr>\n",
       "    <tr>\n",
       "      <th>74</th>\n",
       "      <td>Xayne Blair</td>\n",
       "      <td>Kit Kats</td>\n",
       "      <td>0.99</td>\n",
       "    </tr>\n",
       "    <tr>\n",
       "      <th>79</th>\n",
       "      <td>Bryce Bland</td>\n",
       "      <td>Snickers</td>\n",
       "      <td>0.99</td>\n",
       "    </tr>\n",
       "    <tr>\n",
       "      <th>80</th>\n",
       "      <td>Troy</td>\n",
       "      <td>Nerds</td>\n",
       "      <td>0.99</td>\n",
       "    </tr>\n",
       "    <tr>\n",
       "      <th>81</th>\n",
       "      <td>shaheim</td>\n",
       "      <td>sour patch kids</td>\n",
       "      <td>0.99</td>\n",
       "    </tr>\n",
       "    <tr>\n",
       "      <th>82</th>\n",
       "      <td>jasiah waxton</td>\n",
       "      <td>Twix</td>\n",
       "      <td>0.99</td>\n",
       "    </tr>\n",
       "    <tr>\n",
       "      <th>96</th>\n",
       "      <td>faith</td>\n",
       "      <td>Kit Kat</td>\n",
       "      <td>0.99</td>\n",
       "    </tr>\n",
       "    <tr>\n",
       "      <th>102</th>\n",
       "      <td>Nor Aisa Binti Abdul Molna</td>\n",
       "      <td>Crunch</td>\n",
       "      <td>0.99</td>\n",
       "    </tr>\n",
       "    <tr>\n",
       "      <th>103</th>\n",
       "      <td>Sa Hay</td>\n",
       "      <td>Hershey</td>\n",
       "      <td>0.99</td>\n",
       "    </tr>\n",
       "    <tr>\n",
       "      <th>106</th>\n",
       "      <td>Jaxon Worrell</td>\n",
       "      <td>Jolly Ranchers</td>\n",
       "      <td>0.99</td>\n",
       "    </tr>\n",
       "    <tr>\n",
       "      <th>107</th>\n",
       "      <td>Emmett</td>\n",
       "      <td>take 5</td>\n",
       "      <td>0.99</td>\n",
       "    </tr>\n",
       "    <tr>\n",
       "      <th>108</th>\n",
       "      <td>Michael Drane</td>\n",
       "      <td>Trolli sour gummy worms</td>\n",
       "      <td>0.99</td>\n",
       "    </tr>\n",
       "  </tbody>\n",
       "</table>\n",
       "</div>"
      ],
      "text/plain": [
       "                          Names                Type of Candy  Cost\n",
       "11                 Kevin Nguyen                     Snickers  0.98\n",
       "12                Chase McCarel                    Milky Way  0.74\n",
       "14               Sarah Martinez                         Twix  0.88\n",
       "16                      brianna                     Snickers  0.98\n",
       "23                        Allan                  Hershey Bar  0.88\n",
       "25                  Bryce Bland           Hersheys Candy Bar  0.88\n",
       "32              Noah Papenbrock      Great Value Peach Rings  0.98\n",
       "38               Blake Tippmann                butter finger  0.98\n",
       "42                Chase McCarel                         Twix  0.88\n",
       "44               Sarah Martinez  Hershey's Cookies and Cream  0.88\n",
       "46                      brianna                   Almond Joy  0.88\n",
       "54                          Kim          Hershey's Chocolate  0.88\n",
       "59                     edaevion                       KitKat  0.82\n",
       "61                  Ethan Morse               reese's take 5  0.99\n",
       "62               Blake Tippmann                      Reese's  0.99\n",
       "69                Gabriel Moore                  jelly beans  0.99\n",
       "70                      brianna                      kitkats  0.99\n",
       "73                 Audrey marks                     skittles  0.99\n",
       "74                  Xayne Blair                     Kit Kats  0.99\n",
       "79                  Bryce Bland                     Snickers  0.99\n",
       "80                         Troy                        Nerds  0.99\n",
       "81                      shaheim              sour patch kids  0.99\n",
       "82                jasiah waxton                         Twix  0.99\n",
       "96                        faith                      Kit Kat  0.99\n",
       "102  Nor Aisa Binti Abdul Molna                       Crunch  0.99\n",
       "103                      Sa Hay                      Hershey  0.99\n",
       "106               Jaxon Worrell               Jolly Ranchers  0.99\n",
       "107                      Emmett                       take 5  0.99\n",
       "108               Michael Drane      Trolli sour gummy worms  0.99"
      ]
     },
     "execution_count": 14,
     "metadata": {},
     "output_type": "execute_result"
    }
   ],
   "source": [
    "df[df['Cost'] < 1.00]"
   ]
  },
  {
   "cell_type": "markdown",
   "id": "7642a8a7",
   "metadata": {},
   "source": [
    "Show only the rows 17 to 37"
   ]
  },
  {
   "cell_type": "code",
   "execution_count": 15,
   "id": "11b253e4",
   "metadata": {},
   "outputs": [
    {
     "data": {
      "text/html": [
       "<div>\n",
       "<style scoped>\n",
       "    .dataframe tbody tr th:only-of-type {\n",
       "        vertical-align: middle;\n",
       "    }\n",
       "\n",
       "    .dataframe tbody tr th {\n",
       "        vertical-align: top;\n",
       "    }\n",
       "\n",
       "    .dataframe thead th {\n",
       "        text-align: right;\n",
       "    }\n",
       "</style>\n",
       "<table border=\"1\" class=\"dataframe\">\n",
       "  <thead>\n",
       "    <tr style=\"text-align: right;\">\n",
       "      <th></th>\n",
       "      <th>Names</th>\n",
       "      <th>Type of Candy</th>\n",
       "      <th>Cost</th>\n",
       "    </tr>\n",
       "  </thead>\n",
       "  <tbody>\n",
       "    <tr>\n",
       "      <th>17</th>\n",
       "      <td>Cathy Wise</td>\n",
       "      <td>Snicker</td>\n",
       "      <td>1.19</td>\n",
       "    </tr>\n",
       "    <tr>\n",
       "      <th>18</th>\n",
       "      <td>alexis</td>\n",
       "      <td>Gummy Bears</td>\n",
       "      <td>1.00</td>\n",
       "    </tr>\n",
       "    <tr>\n",
       "      <th>19</th>\n",
       "      <td>Audrey marks</td>\n",
       "      <td>heath bar</td>\n",
       "      <td>1.63</td>\n",
       "    </tr>\n",
       "    <tr>\n",
       "      <th>20</th>\n",
       "      <td>Xayne Blair</td>\n",
       "      <td>Skittles</td>\n",
       "      <td>2.28</td>\n",
       "    </tr>\n",
       "    <tr>\n",
       "      <th>21</th>\n",
       "      <td>Corban Saylor</td>\n",
       "      <td>3 musketeers</td>\n",
       "      <td>1.48</td>\n",
       "    </tr>\n",
       "    <tr>\n",
       "      <th>22</th>\n",
       "      <td>Langston</td>\n",
       "      <td>Reeses</td>\n",
       "      <td>1.96</td>\n",
       "    </tr>\n",
       "    <tr>\n",
       "      <th>23</th>\n",
       "      <td>Allan</td>\n",
       "      <td>Hershey Bar</td>\n",
       "      <td>0.88</td>\n",
       "    </tr>\n",
       "    <tr>\n",
       "      <th>24</th>\n",
       "      <td>Kim</td>\n",
       "      <td>Reese's Chocolate</td>\n",
       "      <td>1.48</td>\n",
       "    </tr>\n",
       "    <tr>\n",
       "      <th>25</th>\n",
       "      <td>Bryce Bland</td>\n",
       "      <td>Hersheys Candy Bar</td>\n",
       "      <td>0.88</td>\n",
       "    </tr>\n",
       "    <tr>\n",
       "      <th>26</th>\n",
       "      <td>Troy</td>\n",
       "      <td>cookie n crème Hershey</td>\n",
       "      <td>1.48</td>\n",
       "    </tr>\n",
       "    <tr>\n",
       "      <th>27</th>\n",
       "      <td>shaheim</td>\n",
       "      <td>Candy Corn</td>\n",
       "      <td>2.28</td>\n",
       "    </tr>\n",
       "    <tr>\n",
       "      <th>28</th>\n",
       "      <td>jasiah waxton</td>\n",
       "      <td>Kit Kat Minis, White Creme</td>\n",
       "      <td>2.98</td>\n",
       "    </tr>\n",
       "    <tr>\n",
       "      <th>29</th>\n",
       "      <td>edaevion</td>\n",
       "      <td>Almond Joy</td>\n",
       "      <td>1.64</td>\n",
       "    </tr>\n",
       "    <tr>\n",
       "      <th>30</th>\n",
       "      <td>Damien</td>\n",
       "      <td>Reece's</td>\n",
       "      <td>2.06</td>\n",
       "    </tr>\n",
       "    <tr>\n",
       "      <th>31</th>\n",
       "      <td>adalynn gilman</td>\n",
       "      <td>Lifesavers</td>\n",
       "      <td>5.28</td>\n",
       "    </tr>\n",
       "    <tr>\n",
       "      <th>32</th>\n",
       "      <td>Noah Papenbrock</td>\n",
       "      <td>Great Value Peach Rings</td>\n",
       "      <td>0.98</td>\n",
       "    </tr>\n",
       "    <tr>\n",
       "      <th>33</th>\n",
       "      <td>Mrwan</td>\n",
       "      <td>Reeses take 5</td>\n",
       "      <td>2.98</td>\n",
       "    </tr>\n",
       "    <tr>\n",
       "      <th>34</th>\n",
       "      <td>Trenton Ly</td>\n",
       "      <td>Kit Kats</td>\n",
       "      <td>9.94</td>\n",
       "    </tr>\n",
       "    <tr>\n",
       "      <th>35</th>\n",
       "      <td>alexander kauffman</td>\n",
       "      <td>KitKat</td>\n",
       "      <td>1.48</td>\n",
       "    </tr>\n",
       "    <tr>\n",
       "      <th>36</th>\n",
       "      <td>William Espich</td>\n",
       "      <td>Starburst</td>\n",
       "      <td>9.98</td>\n",
       "    </tr>\n",
       "    <tr>\n",
       "      <th>37</th>\n",
       "      <td>Andres H</td>\n",
       "      <td>snickers</td>\n",
       "      <td>1.16</td>\n",
       "    </tr>\n",
       "  </tbody>\n",
       "</table>\n",
       "</div>"
      ],
      "text/plain": [
       "                 Names               Type of Candy  Cost\n",
       "17          Cathy Wise                     Snicker  1.19\n",
       "18              alexis                 Gummy Bears  1.00\n",
       "19        Audrey marks                   heath bar  1.63\n",
       "20         Xayne Blair                    Skittles  2.28\n",
       "21       Corban Saylor                3 musketeers  1.48\n",
       "22            Langston                      Reeses  1.96\n",
       "23               Allan                 Hershey Bar  0.88\n",
       "24                 Kim           Reese's Chocolate  1.48\n",
       "25         Bryce Bland          Hersheys Candy Bar  0.88\n",
       "26                Troy      cookie n crème Hershey  1.48\n",
       "27             shaheim                  Candy Corn  2.28\n",
       "28       jasiah waxton  Kit Kat Minis, White Creme  2.98\n",
       "29            edaevion                  Almond Joy  1.64\n",
       "30              Damien                     Reece's  2.06\n",
       "31      adalynn gilman                  Lifesavers  5.28\n",
       "32     Noah Papenbrock     Great Value Peach Rings  0.98\n",
       "33               Mrwan               Reeses take 5  2.98\n",
       "34          Trenton Ly                    Kit Kats  9.94\n",
       "35  alexander kauffman                      KitKat  1.48\n",
       "36      William Espich                   Starburst  9.98\n",
       "37            Andres H                    snickers  1.16"
      ]
     },
     "execution_count": 15,
     "metadata": {},
     "output_type": "execute_result"
    }
   ],
   "source": [
    "df.iloc[17:38]"
   ]
  },
  {
   "cell_type": "markdown",
   "id": "afc57c6d",
   "metadata": {},
   "source": [
    "Show only the rows that are for Damien."
   ]
  },
  {
   "cell_type": "code",
   "execution_count": 16,
   "id": "c39a6285",
   "metadata": {},
   "outputs": [
    {
     "data": {
      "text/html": [
       "<div>\n",
       "<style scoped>\n",
       "    .dataframe tbody tr th:only-of-type {\n",
       "        vertical-align: middle;\n",
       "    }\n",
       "\n",
       "    .dataframe tbody tr th {\n",
       "        vertical-align: top;\n",
       "    }\n",
       "\n",
       "    .dataframe thead th {\n",
       "        text-align: right;\n",
       "    }\n",
       "</style>\n",
       "<table border=\"1\" class=\"dataframe\">\n",
       "  <thead>\n",
       "    <tr style=\"text-align: right;\">\n",
       "      <th></th>\n",
       "      <th>Names</th>\n",
       "      <th>Type of Candy</th>\n",
       "      <th>Cost</th>\n",
       "    </tr>\n",
       "  </thead>\n",
       "  <tbody>\n",
       "    <tr>\n",
       "      <th>0</th>\n",
       "      <td>Damien</td>\n",
       "      <td>Almond Joy</td>\n",
       "      <td>1.96</td>\n",
       "    </tr>\n",
       "    <tr>\n",
       "      <th>30</th>\n",
       "      <td>Damien</td>\n",
       "      <td>Reece's</td>\n",
       "      <td>2.06</td>\n",
       "    </tr>\n",
       "    <tr>\n",
       "      <th>84</th>\n",
       "      <td>Damien</td>\n",
       "      <td>Reese's</td>\n",
       "      <td>1.99</td>\n",
       "    </tr>\n",
       "  </tbody>\n",
       "</table>\n",
       "</div>"
      ],
      "text/plain": [
       "     Names Type of Candy  Cost\n",
       "0   Damien    Almond Joy  1.96\n",
       "30  Damien       Reece's  2.06\n",
       "84  Damien       Reese's  1.99"
      ]
     },
     "execution_count": 16,
     "metadata": {},
     "output_type": "execute_result"
    }
   ],
   "source": [
    "df[df['Names'] == 'Damien']"
   ]
  },
  {
   "cell_type": "markdown",
   "id": "39ad6196",
   "metadata": {},
   "source": [
    "Create a new column names is_candy and make all the rows True"
   ]
  },
  {
   "cell_type": "code",
   "execution_count": 17,
   "id": "319f80c1",
   "metadata": {},
   "outputs": [],
   "source": [
    "df['is_candy'] = True"
   ]
  },
  {
   "cell_type": "markdown",
   "id": "0c88367d",
   "metadata": {},
   "source": [
    "Change the name of the row you created to Candy."
   ]
  },
  {
   "cell_type": "code",
   "execution_count": 18,
   "id": "c7ba12f8",
   "metadata": {},
   "outputs": [],
   "source": [
    "df.rename(columns={'is_candy': 'Candy'}, inplace=True)"
   ]
  },
  {
   "cell_type": "markdown",
   "id": "dd5c1840",
   "metadata": {},
   "source": [
    "Write an statement that iterates through the list and finds all the Snicker or snickers"
   ]
  },
  {
   "cell_type": "code",
   "execution_count": 19,
   "id": "939679cd",
   "metadata": {},
   "outputs": [
    {
     "data": {
      "text/html": [
       "<div>\n",
       "<style scoped>\n",
       "    .dataframe tbody tr th:only-of-type {\n",
       "        vertical-align: middle;\n",
       "    }\n",
       "\n",
       "    .dataframe tbody tr th {\n",
       "        vertical-align: top;\n",
       "    }\n",
       "\n",
       "    .dataframe thead th {\n",
       "        text-align: right;\n",
       "    }\n",
       "</style>\n",
       "<table border=\"1\" class=\"dataframe\">\n",
       "  <thead>\n",
       "    <tr style=\"text-align: right;\">\n",
       "      <th></th>\n",
       "      <th>Names</th>\n",
       "      <th>Type of Candy</th>\n",
       "      <th>Cost</th>\n",
       "      <th>Candy</th>\n",
       "    </tr>\n",
       "  </thead>\n",
       "  <tbody>\n",
       "    <tr>\n",
       "      <th>3</th>\n",
       "      <td>Mrwan</td>\n",
       "      <td>Snickers</td>\n",
       "      <td>1.00</td>\n",
       "      <td>True</td>\n",
       "    </tr>\n",
       "    <tr>\n",
       "      <th>11</th>\n",
       "      <td>Kevin Nguyen</td>\n",
       "      <td>Snickers</td>\n",
       "      <td>0.98</td>\n",
       "      <td>True</td>\n",
       "    </tr>\n",
       "    <tr>\n",
       "      <th>16</th>\n",
       "      <td>brianna</td>\n",
       "      <td>Snickers</td>\n",
       "      <td>0.98</td>\n",
       "      <td>True</td>\n",
       "    </tr>\n",
       "    <tr>\n",
       "      <th>17</th>\n",
       "      <td>Cathy Wise</td>\n",
       "      <td>Snicker</td>\n",
       "      <td>1.19</td>\n",
       "      <td>True</td>\n",
       "    </tr>\n",
       "    <tr>\n",
       "      <th>37</th>\n",
       "      <td>Andres H</td>\n",
       "      <td>snickers</td>\n",
       "      <td>1.16</td>\n",
       "      <td>True</td>\n",
       "    </tr>\n",
       "    <tr>\n",
       "      <th>45</th>\n",
       "      <td>Gabriel Moore</td>\n",
       "      <td>snickers bar</td>\n",
       "      <td>1.48</td>\n",
       "      <td>True</td>\n",
       "    </tr>\n",
       "    <tr>\n",
       "      <th>71</th>\n",
       "      <td>Cathy Wise</td>\n",
       "      <td>Snickers</td>\n",
       "      <td>1.99</td>\n",
       "      <td>True</td>\n",
       "    </tr>\n",
       "    <tr>\n",
       "      <th>77</th>\n",
       "      <td>Allan</td>\n",
       "      <td>snickers</td>\n",
       "      <td>1.99</td>\n",
       "      <td>True</td>\n",
       "    </tr>\n",
       "    <tr>\n",
       "      <th>79</th>\n",
       "      <td>Bryce Bland</td>\n",
       "      <td>Snickers</td>\n",
       "      <td>0.99</td>\n",
       "      <td>True</td>\n",
       "    </tr>\n",
       "    <tr>\n",
       "      <th>97</th>\n",
       "      <td>Juan Ruiz</td>\n",
       "      <td>Snickers</td>\n",
       "      <td>1.06</td>\n",
       "      <td>True</td>\n",
       "    </tr>\n",
       "  </tbody>\n",
       "</table>\n",
       "</div>"
      ],
      "text/plain": [
       "            Names Type of Candy  Cost  Candy\n",
       "3           Mrwan      Snickers  1.00   True\n",
       "11   Kevin Nguyen      Snickers  0.98   True\n",
       "16        brianna      Snickers  0.98   True\n",
       "17     Cathy Wise       Snicker  1.19   True\n",
       "37       Andres H      snickers  1.16   True\n",
       "45  Gabriel Moore  snickers bar  1.48   True\n",
       "71     Cathy Wise      Snickers  1.99   True\n",
       "77          Allan      snickers  1.99   True\n",
       "79    Bryce Bland      Snickers  0.99   True\n",
       "97      Juan Ruiz      Snickers  1.06   True"
      ]
     },
     "execution_count": 19,
     "metadata": {},
     "output_type": "execute_result"
    }
   ],
   "source": [
    "df[df['Type of Candy'].str.contains('Snicker', case=False)]"
   ]
  },
  {
   "cell_type": "markdown",
   "id": "86dc11f3",
   "metadata": {},
   "source": [
    "Using iloc change the 3rd row's candy column to False"
   ]
  },
  {
   "cell_type": "code",
   "execution_count": 20,
   "id": "384d3f57",
   "metadata": {},
   "outputs": [],
   "source": [
    "df.iloc[2, df.columns.get_loc('Candy')] = False"
   ]
  },
  {
   "cell_type": "markdown",
   "id": "f739b01c",
   "metadata": {},
   "source": [
    "Output the table to a csv named 'your_last_name_mod7output.csv'"
   ]
  },
  {
   "cell_type": "code",
   "execution_count": 21,
   "id": "c5ef4a7a",
   "metadata": {},
   "outputs": [],
   "source": [
    "df.to_csv('carapia_mod7output.csv', index=False)"
   ]
  },
  {
   "cell_type": "markdown",
   "id": "f149f3ba",
   "metadata": {},
   "source": [
    "Drop the candy column permanently"
   ]
  },
  {
   "cell_type": "code",
   "execution_count": 22,
   "id": "b1a13aea",
   "metadata": {},
   "outputs": [],
   "source": [
    "df.drop(columns=['Candy'], inplace=True)"
   ]
  },
  {
   "cell_type": "markdown",
   "id": "6fd88ff4",
   "metadata": {},
   "source": [
    "# Please turn in the completed Juypter Notebook along with your output csv to github. Make sure that I can see the notebook and it is not just the file as this sometimes does not work. A link to the location on the repo should be submitted."
   ]
  }
 ],
 "metadata": {
  "kernelspec": {
   "display_name": ".venv",
   "language": "python",
   "name": "python3"
  },
  "language_info": {
   "codemirror_mode": {
    "name": "ipython",
    "version": 3
   },
   "file_extension": ".py",
   "mimetype": "text/x-python",
   "name": "python",
   "nbconvert_exporter": "python",
   "pygments_lexer": "ipython3",
   "version": "3.12.7"
  }
 },
 "nbformat": 4,
 "nbformat_minor": 5
}
